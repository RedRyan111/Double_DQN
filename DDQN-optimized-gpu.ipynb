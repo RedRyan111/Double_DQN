{
 "cells": [
  {
   "cell_type": "code",
   "execution_count": 1,
   "metadata": {},
   "outputs": [],
   "source": [
    "import os"
   ]
  },
  {
   "cell_type": "code",
   "execution_count": 2,
   "metadata": {},
   "outputs": [],
   "source": [
    "path = 'C:\\\\Users\\\\raven\\\\AppData\\\\Local\\\\Packages\\\\PythonSoftwareFoundation.Python.3.7_qbz5n2kfra8p0\\\\LocalCache\\\\local-packages\\\\Python37\\\\site-packages'"
   ]
  },
  {
   "cell_type": "code",
   "execution_count": 3,
   "metadata": {},
   "outputs": [],
   "source": [
    "os.chdir(path)"
   ]
  },
  {
   "cell_type": "code",
   "execution_count": 4,
   "metadata": {},
   "outputs": [],
   "source": [
    "import torch\n",
    "import torch.nn as nn\n",
    "import torch.optim as optim\n",
    "import random\n",
    "import numpy as np\n",
    "import gym\n",
    "from collections import deque"
   ]
  },
  {
   "cell_type": "code",
   "execution_count": 5,
   "metadata": {},
   "outputs": [
    {
     "data": {
      "text/plain": [
       "True"
      ]
     },
     "execution_count": 5,
     "metadata": {},
     "output_type": "execute_result"
    }
   ],
   "source": [
    "torch.cuda.is_available()"
   ]
  },
  {
   "cell_type": "code",
   "execution_count": 6,
   "metadata": {},
   "outputs": [
    {
     "data": {
      "text/plain": [
       "device(type='cuda', index=0)"
      ]
     },
     "execution_count": 6,
     "metadata": {},
     "output_type": "execute_result"
    }
   ],
   "source": [
    "device = torch.device(\"cuda:0\")\n",
    "device"
   ]
  },
  {
   "cell_type": "code",
   "execution_count": 7,
   "metadata": {},
   "outputs": [
    {
     "name": "stdout",
     "output_type": "stream",
     "text": [
      "Running on the GPU\n"
     ]
    }
   ],
   "source": [
    "if torch.cuda.is_available():\n",
    "    device = torch.device(\"cuda:0\")  # you can continue going on here, like cuda:1 cuda:2....etc. \n",
    "    print(\"Running on the GPU\")\n",
    "else:\n",
    "    device = torch.device(\"cpu\")\n",
    "    print(\"Running on the CPU\")"
   ]
  },
  {
   "cell_type": "code",
   "execution_count": 8,
   "metadata": {},
   "outputs": [],
   "source": [
    "class act_model(nn.Module):\n",
    "    def __init__(self,inp,hidden,output):\n",
    "        super(act_model, self).__init__()\n",
    "        self.fc1 = nn.Linear(inp, hidden, bias=True)\n",
    "        self.fc2 = nn.Linear(hidden, hidden, bias=True)\n",
    "        self.fc3 = nn.Linear(hidden, output, bias=True)\n",
    "        self.fc12 = nn.LeakyReLU()\n",
    "        \n",
    "        self.memory = deque(maxlen=200)\n",
    "        \n",
    "        self.gamma = .95\n",
    "        self.epsilon = 1.0 #exploration rate\n",
    "        self.epsilon_min = .001\n",
    "        self.epsilon_decay = .995\n",
    "        self.tau = .01\n",
    "        \n",
    "        self.mse = nn.MSELoss()\n",
    "        self.optimizer = optim.Adam(self.parameters(),lr=.001)\n",
    "        \n",
    "    def action(self,state):\n",
    "        #choose action with probability\n",
    "        if(random.random() <= self.epsilon):\n",
    "            return np.random.choice(out, 1)[0]\n",
    "        else:\n",
    "            q_values = self.forward(state)\n",
    "            return np.argmax(q_values.cpu().detach().numpy())  #Q(s,a)\n",
    "            \n",
    "    def memorize(self,state,action,reward,next_state,done):\n",
    "        self.memory.append((state,action,reward,next_state,done))\n",
    "        \n",
    "    def replay(self,batch_size,target_model):\n",
    "        if(len(self.memory) < batch_size): return 0 \n",
    "        minibatch = random.sample(self.memory,batch_size)\n",
    "        for state,action,reward,next_state,done in minibatch:\n",
    "            target = reward\n",
    "            if not done:\n",
    "                target_q_values = target_model.forward(next_state)\n",
    "                primary_q_values = self.forward(next_state)\n",
    "                \n",
    "                max_target_action = np.argmax(target_q_values.cpu().detach().numpy())\n",
    "                primary_q_value = primary_q_values[max_target_action]\n",
    "                \n",
    "                target = (reward + self.gamma*primary_q_value)\n",
    "                \n",
    "            target_f = self.forward(state)\n",
    "            target_f[action] = target\n",
    "            target_g = self.forward(state)\n",
    "\n",
    "            self.zero_grad()\n",
    "            self.optimizer.zero_grad()\n",
    "            \n",
    "            loss = self.mse(target_g,target_f)\n",
    "            loss.backward(retain_graph=True)\n",
    "            self.optimizer.step() \n",
    "        \n",
    "            # target network update\n",
    "            for target_param, param in zip(target_model.parameters(), self.parameters()):\n",
    "                target_param.data.copy_(self.tau * param + (1 - self.tau) * target_param)\n",
    "        \n",
    "        if self.epsilon > self.epsilon_min:\n",
    "            self.epsilon *= self.epsilon_decay\n",
    "            \n",
    "    def load(self,PATH):\n",
    "        torch.save(self, PATH)\n",
    "\n",
    "    def save(self,PATH):\n",
    "        model = torch.load(PATH)\n",
    "        return model\n",
    "        \n",
    "    def forward(self,x):\n",
    "        x = x.to(device)\n",
    "        out = self.fc12(self.fc1(x))\n",
    "        out = self.fc12(self.fc2(out))\n",
    "        out = self.fc3(out)\n",
    "        \n",
    "        return out"
   ]
  },
  {
   "cell_type": "code",
   "execution_count": null,
   "metadata": {},
   "outputs": [
    {
     "name": "stdout",
     "output_type": "stream",
     "text": [
      "episode: 0/2000, score: 13, e: 1.0\n",
      "episode: 1/2000, score: 11, e: 1.0\n",
      "episode: 2/2000, score: 20, e: 1.0\n",
      "episode: 3/2000, score: 35, e: 0.84\n",
      "episode: 4/2000, score: 14, e: 0.78\n",
      "episode: 5/2000, score: 13, e: 0.73\n",
      "episode: 6/2000, score: 20, e: 0.66\n",
      "episode: 7/2000, score: 28, e: 0.57\n",
      "episode: 8/2000, score: 16, e: 0.52\n",
      "episode: 9/2000, score: 12, e: 0.49\n",
      "episode: 10/2000, score: 25, e: 0.43\n",
      "episode: 11/2000, score: 47, e: 0.34\n",
      "episode: 12/2000, score: 45, e: 0.27\n",
      "episode: 13/2000, score: 16, e: 0.25\n",
      "episode: 14/2000, score: 18, e: 0.22\n",
      "episode: 15/2000, score: 21, e: 0.2\n",
      "episode: 16/2000, score: 18, e: 0.18\n",
      "episode: 17/2000, score: 43, e: 0.15\n",
      "episode: 18/2000, score: 64, e: 0.11\n",
      "episode: 19/2000, score: 119, e: 0.058\n",
      "episode: 20/2000, score: 54, e: 0.044\n",
      "episode: 21/2000, score: 118, e: 0.024\n"
     ]
    }
   ],
   "source": [
    "inp = 4\n",
    "hid = 24\n",
    "out = 2\n",
    "primary_model = act_model(inp,hid,out).to(device)\n",
    "target_model = act_model(inp,hid,out).to(device)\n",
    "\n",
    "env = gym.make('CartPole-v0')\n",
    "#env = gym.make('Acrobot-v1')\n",
    "epochs = 2000\n",
    "batch_size = 50\n",
    "\n",
    "for epoch in range(epochs):\n",
    "    state = env.reset()\n",
    "    for t in range(200):\n",
    "        state = torch.FloatTensor(state)\n",
    "        action = primary_model.action(state)\n",
    "        next_state, reward, done, info = env.step(action)\n",
    "        reward = reward if not done else -10\n",
    "        \n",
    "        next_state = torch.FloatTensor(next_state)\n",
    "        primary_model.memorize(state,action,reward,next_state,done)\n",
    "        state = next_state\n",
    "        \n",
    "        primary_model.replay(batch_size,target_model)\n",
    "\n",
    "        if done:\n",
    "            print(\"episode: {}/{}, score: {}, e: {:.2}\"\n",
    "                  .format(epoch, epochs, t, primary_model.epsilon))\n",
    "            break   \n",
    "env.close()"
   ]
  },
  {
   "cell_type": "code",
   "execution_count": null,
   "metadata": {},
   "outputs": [],
   "source": []
  }
 ],
 "metadata": {
  "kernelspec": {
   "display_name": "Python 3",
   "language": "python",
   "name": "python3"
  },
  "language_info": {
   "codemirror_mode": {
    "name": "ipython",
    "version": 3
   },
   "file_extension": ".py",
   "mimetype": "text/x-python",
   "name": "python",
   "nbconvert_exporter": "python",
   "pygments_lexer": "ipython3",
   "version": "3.7.4"
  }
 },
 "nbformat": 4,
 "nbformat_minor": 2
}
