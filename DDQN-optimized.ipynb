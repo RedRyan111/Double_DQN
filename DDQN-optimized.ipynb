{
 "cells": [
  {
   "cell_type": "code",
   "execution_count": 1,
   "metadata": {},
   "outputs": [],
   "source": [
    "import os"
   ]
  },
  {
   "cell_type": "code",
   "execution_count": 2,
   "metadata": {},
   "outputs": [],
   "source": [
    "path = 'C:\\\\Users\\\\raven\\\\AppData\\\\Local\\\\Packages\\\\PythonSoftwareFoundation.Python.3.7_qbz5n2kfra8p0\\\\LocalCache\\\\local-packages\\\\Python37\\\\site-packages'"
   ]
  },
  {
   "cell_type": "code",
   "execution_count": 3,
   "metadata": {},
   "outputs": [],
   "source": [
    "os.chdir(path)"
   ]
  },
  {
   "cell_type": "code",
   "execution_count": 4,
   "metadata": {},
   "outputs": [],
   "source": [
    "import torch\n",
    "import torch.nn as nn\n",
    "import torch.optim as optim\n",
    "import random\n",
    "import numpy as np\n",
    "import gym\n",
    "from collections import deque"
   ]
  },
  {
   "cell_type": "code",
   "execution_count": 5,
   "metadata": {},
   "outputs": [],
   "source": [
    "class act_model(nn.Module):\n",
    "    def __init__(self,inp,hidden,output):\n",
    "        super(act_model, self).__init__()\n",
    "        self.fc1 = nn.Linear(inp, hidden, bias=True)\n",
    "        self.fc2 = nn.Linear(hidden, hidden, bias=True)\n",
    "        self.fc3 = nn.Linear(hidden, output, bias=True)\n",
    "        self.fc12 = nn.LeakyReLU()\n",
    "        \n",
    "        self.memory = deque(maxlen=200)\n",
    "        \n",
    "        self.gamma = .95\n",
    "        self.epsilon = 1.0 #exploration rate\n",
    "        self.epsilon_min = .001\n",
    "        self.epsilon_decay = .995\n",
    "        self.tau = .01\n",
    "        \n",
    "        self.mse = nn.MSELoss()\n",
    "        self.optimizer = optim.Adam(self.parameters(),lr=.001)\n",
    "        \n",
    "    def action(self,state):\n",
    "        #choose action with probability\n",
    "        if(random.random() <= self.epsilon):\n",
    "            return np.random.choice(out, 1)[0]\n",
    "        else:\n",
    "            q_values = self.forward(state)\n",
    "            return np.argmax(q_values.detach().numpy())  #Q(s,a)\n",
    "            \n",
    "    def memorize(self,state,action,reward,next_state,done):\n",
    "        self.memory.append((state,action,reward,next_state,done))\n",
    "        \n",
    "    def replay(self,batch_size,target_model):\n",
    "        if(len(self.memory) < batch_size): return 0 \n",
    "        minibatch = random.sample(self.memory,batch_size)\n",
    "        for state,action,reward,next_state,done in minibatch:\n",
    "            target = reward\n",
    "            if not done:\n",
    "                target_q_values = target_model.forward(next_state)\n",
    "                primary_q_values = self.forward(next_state)\n",
    "                \n",
    "                max_target_action = np.argmax(target_q_values.detach().numpy())\n",
    "                primary_q_value = primary_q_values[max_target_action]\n",
    "                \n",
    "                target = (reward + self.gamma*primary_q_value)\n",
    "                \n",
    "            target_f = self.forward(state)\n",
    "            target_f[action] = target\n",
    "            target_g = self.forward(state)\n",
    "\n",
    "            self.zero_grad()\n",
    "            self.optimizer.zero_grad()\n",
    "            \n",
    "            loss = self.mse(target_g,target_f)\n",
    "            loss.backward(retain_graph=True)\n",
    "            self.optimizer.step() \n",
    "        \n",
    "            # target network update\n",
    "            for target_param, param in zip(target_model.parameters(), self.parameters()):\n",
    "                target_param.data.copy_(self.tau * param + (1 - self.tau) * target_param)\n",
    "        \n",
    "        if self.epsilon > self.epsilon_min:\n",
    "            self.epsilon *= self.epsilon_decay\n",
    "            \n",
    "    def load(self,PATH):\n",
    "        torch.save(self, PATH)\n",
    "\n",
    "    def save(self,PATH):\n",
    "        model = torch.load(PATH)\n",
    "        return model\n",
    "        \n",
    "    def forward(self,x):\n",
    "        out = self.fc12(self.fc1(x))\n",
    "        out = self.fc12(self.fc2(out))\n",
    "        out = self.fc3(out)\n",
    "        \n",
    "        return out"
   ]
  },
  {
   "cell_type": "code",
   "execution_count": 6,
   "metadata": {},
   "outputs": [
    {
     "name": "stdout",
     "output_type": "stream",
     "text": [
      "episode: 0/2000, score: 15, e: 1.0\n",
      "episode: 1/2000, score: 26, e: 1.0\n",
      "episode: 2/2000, score: 28, e: 0.89\n",
      "episode: 3/2000, score: 20, e: 0.8\n",
      "episode: 4/2000, score: 63, e: 0.58\n",
      "episode: 5/2000, score: 12, e: 0.55\n",
      "episode: 6/2000, score: 31, e: 0.46\n",
      "episode: 7/2000, score: 65, e: 0.33\n",
      "episode: 8/2000, score: 47, e: 0.26\n",
      "episode: 9/2000, score: 69, e: 0.18\n",
      "episode: 10/2000, score: 41, e: 0.15\n",
      "episode: 11/2000, score: 47, e: 0.12\n",
      "episode: 12/2000, score: 23, e: 0.1\n",
      "episode: 13/2000, score: 20, e: 0.094\n",
      "episode: 14/2000, score: 25, e: 0.082\n",
      "episode: 15/2000, score: 69, e: 0.058\n",
      "episode: 16/2000, score: 146, e: 0.028\n",
      "episode: 17/2000, score: 150, e: 0.013\n"
     ]
    },
    {
     "ename": "KeyboardInterrupt",
     "evalue": "",
     "output_type": "error",
     "traceback": [
      "\u001b[1;31m---------------------------------------------------------------------------\u001b[0m",
      "\u001b[1;31mKeyboardInterrupt\u001b[0m                         Traceback (most recent call last)",
      "\u001b[1;32m<ipython-input-6-968fd230e5db>\u001b[0m in \u001b[0;36m<module>\u001b[1;34m\u001b[0m\n\u001b[0;32m     21\u001b[0m         \u001b[0mstate\u001b[0m \u001b[1;33m=\u001b[0m \u001b[0mnext_state\u001b[0m\u001b[1;33m\u001b[0m\u001b[1;33m\u001b[0m\u001b[0m\n\u001b[0;32m     22\u001b[0m \u001b[1;33m\u001b[0m\u001b[0m\n\u001b[1;32m---> 23\u001b[1;33m         \u001b[0mprimary_model\u001b[0m\u001b[1;33m.\u001b[0m\u001b[0mreplay\u001b[0m\u001b[1;33m(\u001b[0m\u001b[0mbatch_size\u001b[0m\u001b[1;33m,\u001b[0m\u001b[0mtarget_model\u001b[0m\u001b[1;33m)\u001b[0m\u001b[1;33m\u001b[0m\u001b[1;33m\u001b[0m\u001b[0m\n\u001b[0m\u001b[0;32m     24\u001b[0m \u001b[1;33m\u001b[0m\u001b[0m\n\u001b[0;32m     25\u001b[0m         \u001b[1;32mif\u001b[0m \u001b[0mdone\u001b[0m\u001b[1;33m:\u001b[0m\u001b[1;33m\u001b[0m\u001b[1;33m\u001b[0m\u001b[0m\n",
      "\u001b[1;32m<ipython-input-5-0f432e22a41d>\u001b[0m in \u001b[0;36mreplay\u001b[1;34m(self, batch_size, target_model)\u001b[0m\n\u001b[0;32m     56\u001b[0m             \u001b[1;31m# target network update\u001b[0m\u001b[1;33m\u001b[0m\u001b[1;33m\u001b[0m\u001b[1;33m\u001b[0m\u001b[0m\n\u001b[0;32m     57\u001b[0m             \u001b[1;32mfor\u001b[0m \u001b[0mtarget_param\u001b[0m\u001b[1;33m,\u001b[0m \u001b[0mparam\u001b[0m \u001b[1;32min\u001b[0m \u001b[0mzip\u001b[0m\u001b[1;33m(\u001b[0m\u001b[0mtarget_model\u001b[0m\u001b[1;33m.\u001b[0m\u001b[0mparameters\u001b[0m\u001b[1;33m(\u001b[0m\u001b[1;33m)\u001b[0m\u001b[1;33m,\u001b[0m \u001b[0mself\u001b[0m\u001b[1;33m.\u001b[0m\u001b[0mparameters\u001b[0m\u001b[1;33m(\u001b[0m\u001b[1;33m)\u001b[0m\u001b[1;33m)\u001b[0m\u001b[1;33m:\u001b[0m\u001b[1;33m\u001b[0m\u001b[1;33m\u001b[0m\u001b[0m\n\u001b[1;32m---> 58\u001b[1;33m                 \u001b[0mtarget_param\u001b[0m\u001b[1;33m.\u001b[0m\u001b[0mdata\u001b[0m\u001b[1;33m.\u001b[0m\u001b[0mcopy_\u001b[0m\u001b[1;33m(\u001b[0m\u001b[0mself\u001b[0m\u001b[1;33m.\u001b[0m\u001b[0mtau\u001b[0m \u001b[1;33m*\u001b[0m \u001b[0mparam\u001b[0m \u001b[1;33m+\u001b[0m \u001b[1;33m(\u001b[0m\u001b[1;36m1\u001b[0m \u001b[1;33m-\u001b[0m \u001b[0mself\u001b[0m\u001b[1;33m.\u001b[0m\u001b[0mtau\u001b[0m\u001b[1;33m)\u001b[0m \u001b[1;33m*\u001b[0m \u001b[0mtarget_param\u001b[0m\u001b[1;33m)\u001b[0m\u001b[1;33m\u001b[0m\u001b[1;33m\u001b[0m\u001b[0m\n\u001b[0m\u001b[0;32m     59\u001b[0m \u001b[1;33m\u001b[0m\u001b[0m\n\u001b[0;32m     60\u001b[0m         \u001b[1;32mif\u001b[0m \u001b[0mself\u001b[0m\u001b[1;33m.\u001b[0m\u001b[0mepsilon\u001b[0m \u001b[1;33m>\u001b[0m \u001b[0mself\u001b[0m\u001b[1;33m.\u001b[0m\u001b[0mepsilon_min\u001b[0m\u001b[1;33m:\u001b[0m\u001b[1;33m\u001b[0m\u001b[1;33m\u001b[0m\u001b[0m\n",
      "\u001b[1;31mKeyboardInterrupt\u001b[0m: "
     ]
    }
   ],
   "source": [
    "inp = 4\n",
    "hid = 24\n",
    "out = 2\n",
    "primary_model = act_model(inp,hid,out)\n",
    "target_model = act_model(inp,hid,out)\n",
    "\n",
    "env = gym.make('CartPole-v0')\n",
    "epochs = 2000\n",
    "batch_size = 50\n",
    "\n",
    "for epoch in range(epochs):\n",
    "    state = env.reset()\n",
    "    for t in range(200):\n",
    "        state = torch.FloatTensor(state)\n",
    "        action = primary_model.action(state)\n",
    "        next_state, reward, done, info = env.step(action)\n",
    "        reward = reward if not done else -10\n",
    "        \n",
    "        next_state = torch.FloatTensor(next_state)\n",
    "        primary_model.memorize(state,action,reward,next_state,done)\n",
    "        state = next_state\n",
    "        \n",
    "        primary_model.replay(batch_size,target_model)\n",
    "\n",
    "        if done:\n",
    "            print(\"episode: {}/{}, score: {}, e: {:.2}\"\n",
    "                  .format(epoch, epochs, t, primary_model.epsilon))\n",
    "            break   \n",
    "env.close()"
   ]
  },
  {
   "cell_type": "code",
   "execution_count": null,
   "metadata": {},
   "outputs": [],
   "source": []
  }
 ],
 "metadata": {
  "kernelspec": {
   "display_name": "Python 3",
   "language": "python",
   "name": "python3"
  },
  "language_info": {
   "codemirror_mode": {
    "name": "ipython",
    "version": 3
   },
   "file_extension": ".py",
   "mimetype": "text/x-python",
   "name": "python",
   "nbconvert_exporter": "python",
   "pygments_lexer": "ipython3",
   "version": "3.7.4"
  }
 },
 "nbformat": 4,
 "nbformat_minor": 2
}
